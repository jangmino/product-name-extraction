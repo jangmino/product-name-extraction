{
 "cells": [
  {
   "cell_type": "markdown",
   "metadata": {},
   "source": [
    "# Make requests to OpenAI ChatCompletion API\n",
    "\n",
    "input: `order_file_path`\n",
    "\n",
    "output: `api_request_file_path`\n",
    "\n",
    "Description\n",
    "- `order_file_path` contains `Platform A`'s order-requst data on a day. \n",
    "- This notebook make a request to OpenAI ChatCompletion API with this data.\n",
    "- Based on the Prompt Template, it writes a JSON file that contains the request data."
   ]
  },
  {
   "cell_type": "code",
   "execution_count": 1,
   "metadata": {},
   "outputs": [],
   "source": [
    "import pandas as pd\n",
    "from tqdm.notebook import tqdm\n",
    "import json\n",
    "import re"
   ]
  },
  {
   "cell_type": "markdown",
   "metadata": {},
   "source": [
    "You should specify the file path which contains your openai API key."
   ]
  },
  {
   "cell_type": "code",
   "execution_count": 2,
   "metadata": {},
   "outputs": [],
   "source": [
    "import openai\n",
    "import os\n",
    "with open(\"../local_data/.openai_api_key\", \"r\") as f:\n",
    "    ss = f.readline().strip()\n",
    "\n",
    "os.environ[\"OPENAI_API_KEY\"] = ss"
   ]
  },
  {
   "cell_type": "code",
   "execution_count": 3,
   "metadata": {},
   "outputs": [],
   "source": [
    "from openai import OpenAI\n",
    "client = OpenAI()"
   ]
  },
  {
   "cell_type": "markdown",
   "metadata": {},
   "source": [
    "*REMARK:*\n",
    "\n",
    "We provide only a sample of 10,000 order_item_descriptions that were collected by Platform A on a specific date. \n",
    "\n",
    "Please understand that we cannot disclose the entire dataset as it is a proprietary asset of the company."
   ]
  },
  {
   "cell_type": "code",
   "execution_count": 5,
   "metadata": {},
   "outputs": [],
   "source": [
    "engine_id = 'gpt-4-turbo'\n",
    "N=100\n",
    "dataset_size = 40000\n",
    "order_file_path = r'../local_data/order_item_description_samples.csv'\n",
    "api_request_file_path = r'../local_data/api_requests_for_annotated_dataset.jsonl'"
   ]
  },
  {
   "cell_type": "code",
   "execution_count": 5,
   "metadata": {},
   "outputs": [
    {
     "name": "stdout",
     "output_type": "stream",
     "text": [
      "num examples:137289 before filtering\n",
      "num examples:136176, length's mean: 14.785168513136522, length's stdev: 203.01567758921644 after filtering\n"
     ]
    }
   ],
   "source": [
    "order_df = pd.read_csv(order_file_path, sep='\\t')\n",
    "order_names = pd.Series(order_df.goods_name.value_counts().index).rename('sentence')\n",
    "print(f\"num examples:{len(order_names)} before filtering\")\n",
    "len_mean = order_names.str.len().mean()\n",
    "len_stdev = order_names.str.len().std()\n",
    "order_names = order_names[order_names.str.len() <= 100].sample(frac=1, random_state=42).reset_index(drop=True)\n",
    "print(f\"num examples:{len(order_names)}, length's mean: {len_mean}, length's stdev: {len_stdev} after filtering\")"
   ]
  },
  {
   "cell_type": "code",
   "execution_count": 6,
   "metadata": {},
   "outputs": [],
   "source": [
    "def remove_non_printable_chars(s):\n",
    "    # remove non-printable unicode characters.\n",
    "    return re.sub(r'[^\\x20-\\x7E\\u00A0-\\uD7FF\\uE000-\\uFFFD]', '', s)"
   ]
  },
  {
   "cell_type": "code",
   "execution_count": 7,
   "metadata": {},
   "outputs": [],
   "source": [
    "order_names = order_names.apply(remove_non_printable_chars)\n",
    "order_names = order_names[:dataset_size]"
   ]
  },
  {
   "cell_type": "markdown",
   "metadata": {},
   "source": [
    "# Prompt Template"
   ]
  },
  {
   "cell_type": "code",
   "execution_count": 28,
   "metadata": {},
   "outputs": [],
   "source": [
    "system_prompt = \"\"\"너는 입력 주문 상품명으로부터 실제 상품명만 추출하는 역할을 수행한다.\n",
    "이벤트 문구가 추가된 경우: '행사중)', '!후기이벤트!' 같은 이벤트 문구가 본래의 실제 상품명 왼쪽 오른쪽에 붙은 경우가 있어. 이런 이벤트 문구를 제거해주고 실제 상품명만 추출해야 한다.\n",
    "- 예: 행사중)닭강정 도시락 !리뷰이벤트! -> 닭강정 도시락\n",
    "- 예: [오늘만 할인]고르곤졸라 피자+콜라1.5L -> 고르곤졸라 피자+콜라1.5L\n",
    "\n",
    "수식어 문구가 추가된 경우: 관용구, 이모티콘, 형용사등 수식어가 본래의 실제 상품명 왼쪽 오른쪽에 붙은 경우가 있어. 이런 수식어를 제거해주고 실제 상품명만 추출해야 한다.\n",
    "- 예: *강북1위*진짜 돼지국밥 (국물이 끝내줘요 ~) -> 진짜 돼지국밥\n",
    "- 예: 무더위엔***수삼 반계탕 $구수합니다$ -> 수삼 반계탕\n",
    "\n",
    "상품명이 아닌 표현: 실제 상품명이 없는 것을 판단되면 빈 문자열을 반환해야 한다.\n",
    "- 예: 배달팁 -> ''\n",
    "- 예: 숟가락 주지 마세요 -> ''\n",
    "\n",
    "주의사항: 문장 오른쪽에 붙는 옵션명이나 수량은 유지해 주어야 한다.\n",
    "- 예: + 프렌치 프라이(L) -> 프렌치 프라이(L) \n",
    "- 예: 떡볶이(소) -> 떡볶이(소)\n",
    "\n",
    "### 몇가지 바람직한 실제 상품명 추출 예시를 나열할테니 이를 참고해주길 바란다.  \n",
    "[New]SG크림치즈버거(L) -> SG크림치즈버거(L)\n",
    "(BEST)묵은지 김치찌개 -> 묵은지 김치찌개\n",
    "(반반)[인기]에그콘피자'-> (반반)[인기]에그콘피자\n",
    "바베큐치킨 (반) -> 바베큐치킨 (반)\n",
    "밥 300g 으로 변경 -> 밥 300g\n",
    "문어볼 2알 추가 -> 문어볼 2알\n",
    "김치 찐 만두(6개) -> 김치 찐 만두(6개)\n",
    "청경채 추가 -> 청경채 추가\n",
    "중간맛 ( 불닭 볶음면 정도 ) -> 중간맛\n",
    "맛집랭킹[낙.곱.새한우대창]조리후 배달 -> 낙.곱.새한우대창\n",
    "[알싸씨크개성강한] 에그 마늘쫑 김밥 -> 에그 마늘쫑 김밥\n",
    "푸짐한 손만두 김치찌개 -> 손만두 김치찌개\n",
    "몬스터 포테이토 피자 -> 몬스터 포테이토 피자\n",
    "메인 두 그릇+탕수육 2인세트 -> 메인 두 그릇+탕수육 2인세트\n",
    "자부심초밥 세트(10P) -> 자부심초밥 세트(10p)\n",
    "올데이프룻자두 500ml -> 올데이프룻자두 500ml\n",
    "!R4 파인애플 볶음밥 -> 파인애플 볶음밥\n",
    "치즈프로마쥬 흑당밀크티(펄 기본 제공)(ICE(대용량)) -> 치즈프로마쥬 흑당밀크티(펄 기본 제공)(ICE(대용량))\n",
    "더블 콤보 에그누들 볶음면 -> 더블 콤보 에그누들 볶음면\n",
    "부추2개(2개) -> 부추2개(2개)\n",
    "스프라이트 1.25L 추가 -> 스프라이트 1.25L\n",
    "숯불직화삼겹모듬(2인) -> 숯불직화삼겹모듬(2인)\n",
    "에그샐러드 샌드위치 -> 에그샐러드 샌드위치\n",
    "불야채막창+체다소스+쿨피스450ml+각무 -> 불야채막창+체다소스+쿨피스450ml+각무\n",
    "김추가(김10개+마니) -> 김추가\n",
    "순대국밥 000032 -> 순대국밥\n",
    "체다 스커트버거 -> 체다 스커트버거\n",
    "[든든한]미숫가루(500ml) -> 미숫가루(500ml)\n",
    "생선카츠(1조각) -> 생선카츠(1조각)\n",
    "의성마늘찜닭(중) -> 의성마늘찜닭(중)\n",
    "세지멜론 -> 세지멜론\n",
    "생과일아이스샤인탕후루 남은수량 : 1개 -> 생과일아이스샤인탕후루\n",
    "소 (2인 ) -> 소 (2인)\n",
    "!오늘의 초밥 10p -> 오늘의 초밥 10p\n",
    "딥초코가나슈마카롱~ -> 딥초코가나슈마카롱\n",
    "브로콜리 8조각 -> 브로콜리 8조각\n",
    "콩나물제육볶음(2인분) -> 콩나물제육볶음(2인분)\n",
    "볶음) 푸주추가 (75g) -> 푸주추가 (75g)\n",
    "[RI뷰E벤트] 선택 안함 -> ''\n",
    "\"\"\""
   ]
  },
  {
   "cell_type": "code",
   "execution_count": 29,
   "metadata": {},
   "outputs": [],
   "source": [
    "user_prompt = \"\"\"### 다음 각 주문 상품명을 분석해서 예시처럼 -> 로 구분하여 실제 상품명을 출력해줘. 반드시 주문 상품명은 그대로 출력해줘.\n",
    "{0}\n",
    "\"\"\""
   ]
  },
  {
   "cell_type": "markdown",
   "metadata": {},
   "source": [
    "# Asynchronous Request Preparation"
   ]
  },
  {
   "cell_type": "code",
   "execution_count": 40,
   "metadata": {},
   "outputs": [],
   "source": [
    "def make_json_body(request_id, system_prompt, user_prompt):\n",
    "    dic = { \n",
    "        'model':engine_id,\n",
    "        'messages':[\n",
    "            {\"role\": \"system\", \"content\": system_prompt},\n",
    "            {\"role\": \"user\", \"content\": user_prompt},\n",
    "        ],\n",
    "        'temperature':0.0,\n",
    "        'metadata':{'request_id':request_id},\n",
    "    }\n",
    "    return json.dumps(dic, ensure_ascii=False)"
   ]
  },
  {
   "cell_type": "code",
   "execution_count": 41,
   "metadata": {},
   "outputs": [],
   "source": [
    "with open(api_request_file_path, 'w') as f:\n",
    "    for i in range(0, len(order_names), N):\n",
    "        jsonl = make_json_body(\n",
    "            request_id=i,\n",
    "            system_prompt=system_prompt,\n",
    "            user_prompt=user_prompt.format('\\n'.join(order_names[i:i+N].values))\n",
    "            )      \n",
    "        f.write(jsonl + '\\n')"
   ]
  }
 ],
 "metadata": {
  "kernelspec": {
   "display_name": "metal",
   "language": "python",
   "name": "python3"
  },
  "language_info": {
   "codemirror_mode": {
    "name": "ipython",
    "version": 3
   },
   "file_extension": ".py",
   "mimetype": "text/x-python",
   "name": "python",
   "nbconvert_exporter": "python",
   "pygments_lexer": "ipython3",
   "version": "3.10.14"
  }
 },
 "nbformat": 4,
 "nbformat_minor": 2
}
